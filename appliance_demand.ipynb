{
 "cells": [
  {
   "cell_type": "code",
   "execution_count": 1,
   "id": "7530e043",
   "metadata": {},
   "outputs": [],
   "source": [
    "import pandas as pd\n",
    "import numpy as np"
   ]
  },
  {
   "cell_type": "code",
   "execution_count": null,
   "id": "c34d1b91",
   "metadata": {},
   "outputs": [
    {
     "data": {
      "application/vnd.microsoft.datawrangler.viewer.v0+json": {
       "columns": [
        {
         "name": "index",
         "rawType": "object",
         "type": "string"
        },
        {
         "name": "Default Highest Electricity Supply",
         "rawType": "object",
         "type": "unknown"
        },
        {
         "name": "Scenario 1 Highest Electricity Supply",
         "rawType": "object",
         "type": "unknown"
        },
        {
         "name": "Scenario 2 Highest Electricity Supply",
         "rawType": "object",
         "type": "unknown"
        }
       ],
       "ref": "2b1b751d-bb5a-43cb-bde9-5d11d4e5371e",
       "rows": [
        [
         "Time",
         "2050-01-31 12:00",
         "2050-01-31 12:00",
         "2050-01-31 12:00"
        ],
        [
         "Total Supply GW",
         "258.17",
         "258.168",
         "258.21"
        ]
       ],
       "shape": {
        "columns": 3,
        "rows": 2
       }
      },
      "text/html": [
       "<div>\n",
       "<style scoped>\n",
       "    .dataframe tbody tr th:only-of-type {\n",
       "        vertical-align: middle;\n",
       "    }\n",
       "\n",
       "    .dataframe tbody tr th {\n",
       "        vertical-align: top;\n",
       "    }\n",
       "\n",
       "    .dataframe thead th {\n",
       "        text-align: right;\n",
       "    }\n",
       "</style>\n",
       "<table border=\"1\" class=\"dataframe\">\n",
       "  <thead>\n",
       "    <tr style=\"text-align: right;\">\n",
       "      <th></th>\n",
       "      <th>Default Highest Electricity Supply</th>\n",
       "      <th>Scenario 1 Highest Electricity Supply</th>\n",
       "      <th>Scenario 2 Highest Electricity Supply</th>\n",
       "    </tr>\n",
       "  </thead>\n",
       "  <tbody>\n",
       "    <tr>\n",
       "      <th>Time</th>\n",
       "      <td>2050-01-31 12:00</td>\n",
       "      <td>2050-01-31 12:00</td>\n",
       "      <td>2050-01-31 12:00</td>\n",
       "    </tr>\n",
       "    <tr>\n",
       "      <th>Total Supply GW</th>\n",
       "      <td>258.17</td>\n",
       "      <td>258.168</td>\n",
       "      <td>258.21</td>\n",
       "    </tr>\n",
       "  </tbody>\n",
       "</table>\n",
       "</div>"
      ],
      "text/plain": [
       "                Default Highest Electricity Supply  \\\n",
       "Time                              2050-01-31 12:00   \n",
       "Total Supply GW                             258.17   \n",
       "\n",
       "                Scenario 1 Highest Electricity Supply  \\\n",
       "Time                                 2050-01-31 12:00   \n",
       "Total Supply GW                               258.168   \n",
       "\n",
       "                Scenario 2 Highest Electricity Supply  \n",
       "Time                                 2050-01-31 12:00  \n",
       "Total Supply GW                                258.21  "
      ]
     },
     "execution_count": 18,
     "metadata": {},
     "output_type": "execute_result"
    }
   ],
   "source": [
    "c5_hourly_electricity = pd.read_csv('merit_order_5pincrease.csv')\n",
    "c10_hourly_electricity = pd.read_csv('merit_order_10pincrease.csv')\n",
    "c10_hourly_electricity = pd.read_csv('merit_order_15pincrease.csv')\n",
    "d_hourly_electricity = pd.read_csv('merit_order_default.csv')\n",
    "\n",
    "\n",
    "hourly_electricity_scenarios = [d_hourly_electricity, c5_hourly_electricity, c10_hourly_electricity]\n",
    "\n",
    "number = 1\n",
    "\n",
    "for hourly_electricity in hourly_electricity_scenarios:\n",
    "\n",
    "    hourly_electricity_total = pd.DataFrame({\n",
    "    'Time': hourly_electricity['Time'],\n",
    "    'Total Supply GW': hourly_electricity.iloc[:, 1:].sum(axis=1)\n",
    "        })\n",
    "    hourly_electricity_total = hourly_electricity_total[['Time', 'Total Supply GW']]\n",
    "    hourly_electricity_total['Total Supply GW'] = (hourly_electricity_total['Total Supply GW']/1000).round(3)\n",
    "    highest_supply = hourly_electricity_total.loc[hourly_electricity_total['Total Supply GW'].idxmax()]\n",
    "\n",
    "    if hourly_electricity.equals(d_hourly_electricity):\n",
    "        supply_comparison = pd.DataFrame({\n",
    "            'Default Highest Electricity Supply' : highest_supply\n",
    "        })\n",
    "    else:\n",
    "        scenario_highest = pd.DataFrame({\n",
    "            f'Scenario {number} Highest Electricity Supply' : highest_supply\n",
    "        })\n",
    "        supply_comparison = pd.concat([supply_comparison, scenario_highest], axis = 1, ignore_index=False)\n",
    "        number +=1\n",
    "\n",
    "supply_comparison\n",
    "\n"
   ]
  },
  {
   "cell_type": "code",
   "execution_count": 5,
   "id": "60f81f30",
   "metadata": {},
   "outputs": [],
   "source": [
    "d_demand = pd.read_csv('application_demands_default.csv')\n",
    "c10_demand = pd.read_csv('application_demands_10pincrease.csv')\n",
    "c15_demand = pd.read_csv('application_demands_15pincrease.csv')\n",
    "c5_demand = pd.read_csv('application_demands_5pincrease.csv')\n",
    "\n",
    "scenarios = [d_demand, c5_demand, c10_demand, c15_demand]"
   ]
  },
  {
   "cell_type": "code",
   "execution_count": 3,
   "id": "17960f61",
   "metadata": {},
   "outputs": [
    {
     "name": "stderr",
     "output_type": "stream",
     "text": [
      "/var/folders/0k/1dtmj8756ps3ykn3lkd5fhqc0000gn/T/ipykernel_1009/3698378627.py:16: FutureWarning: Setting an item of incompatible dtype is deprecated and will raise an error in a future version of pandas. Value '39.169' has dtype incompatible with int64, please explicitly cast to a compatible dtype first.\n",
      "  comparison.iloc[0,1] = value_airpump\n"
     ]
    },
    {
     "data": {
      "application/vnd.microsoft.datawrangler.viewer.v0+json": {
       "columns": [
        {
         "name": "index",
         "rawType": "int64",
         "type": "integer"
        },
        {
         "name": "Appliance",
         "rawType": "object",
         "type": "string"
        },
        {
         "name": "Default Final Demand of Electricity in billions (MJ)",
         "rawType": "float64",
         "type": "float"
        },
        {
         "name": "Scenario 1 Final Demand of Electricity in billions (MJ)",
         "rawType": "float64",
         "type": "float"
        },
        {
         "name": "Scenario 2 Final Demand of Electricity in billions (MJ)",
         "rawType": "float64",
         "type": "float"
        },
        {
         "name": "Scenario 3 Final Demand of Electricity in billions (MJ)",
         "rawType": "float64",
         "type": "float"
        }
       ],
       "ref": "10d180f6-d069-4c7e-91e6-6b9c6dda6edf",
       "rows": [
        [
         "0",
         "Air Heatpump",
         "39.169",
         "33.325",
         "27.382",
         "21.504"
        ],
        [
         "1",
         "Hybrid Heatpump",
         "25.397",
         "31.505",
         "37.748",
         "43.573"
        ],
        [
         "0",
         "Total",
         "64.566",
         "64.83",
         "65.13",
         "65.077"
        ]
       ],
       "shape": {
        "columns": 5,
        "rows": 3
       }
      },
      "text/html": [
       "<div>\n",
       "<style scoped>\n",
       "    .dataframe tbody tr th:only-of-type {\n",
       "        vertical-align: middle;\n",
       "    }\n",
       "\n",
       "    .dataframe tbody tr th {\n",
       "        vertical-align: top;\n",
       "    }\n",
       "\n",
       "    .dataframe thead th {\n",
       "        text-align: right;\n",
       "    }\n",
       "</style>\n",
       "<table border=\"1\" class=\"dataframe\">\n",
       "  <thead>\n",
       "    <tr style=\"text-align: right;\">\n",
       "      <th></th>\n",
       "      <th>Appliance</th>\n",
       "      <th>Default Final Demand of Electricity in billions (MJ)</th>\n",
       "      <th>Scenario 1 Final Demand of Electricity in billions (MJ)</th>\n",
       "      <th>Scenario 2 Final Demand of Electricity in billions (MJ)</th>\n",
       "      <th>Scenario 3 Final Demand of Electricity in billions (MJ)</th>\n",
       "    </tr>\n",
       "  </thead>\n",
       "  <tbody>\n",
       "    <tr>\n",
       "      <th>0</th>\n",
       "      <td>Air Heatpump</td>\n",
       "      <td>39.169</td>\n",
       "      <td>33.325</td>\n",
       "      <td>27.382</td>\n",
       "      <td>21.504</td>\n",
       "    </tr>\n",
       "    <tr>\n",
       "      <th>1</th>\n",
       "      <td>Hybrid Heatpump</td>\n",
       "      <td>25.397</td>\n",
       "      <td>31.505</td>\n",
       "      <td>37.748</td>\n",
       "      <td>43.573</td>\n",
       "    </tr>\n",
       "    <tr>\n",
       "      <th>0</th>\n",
       "      <td>Total</td>\n",
       "      <td>64.566</td>\n",
       "      <td>64.830</td>\n",
       "      <td>65.130</td>\n",
       "      <td>65.077</td>\n",
       "    </tr>\n",
       "  </tbody>\n",
       "</table>\n",
       "</div>"
      ],
      "text/plain": [
       "         Appliance  Default Final Demand of Electricity in billions (MJ)  \\\n",
       "0     Air Heatpump                                             39.169      \n",
       "1  Hybrid Heatpump                                             25.397      \n",
       "0            Total                                             64.566      \n",
       "\n",
       "   Scenario 1 Final Demand of Electricity in billions (MJ)  \\\n",
       "0                                             33.325         \n",
       "1                                             31.505         \n",
       "0                                             64.830         \n",
       "\n",
       "   Scenario 2 Final Demand of Electricity in billions (MJ)  \\\n",
       "0                                             27.382         \n",
       "1                                             37.748         \n",
       "0                                             65.130         \n",
       "\n",
       "   Scenario 3 Final Demand of Electricity in billions (MJ)  \n",
       "0                                             21.504        \n",
       "1                                             43.573        \n",
       "0                                             65.077        "
      ]
     },
     "execution_count": 3,
     "metadata": {},
     "output_type": "execute_result"
    }
   ],
   "source": [
    "# print(d_demand[d_demand['key'] == 'households_space_heater_heatpump_air_water_electricity'])\n",
    "comparison = pd.DataFrame({\n",
    "    'Appliance' : ['Air Heatpump', 'Hybrid Heatpump'],\n",
    "    \"Default Final Demand of Electricity in billions (MJ)\" :[0,0]\n",
    "})\n",
    "\n",
    "number = 1\n",
    "\n",
    "for scenario in scenarios:\n",
    "    row_airpump = scenario[scenario['key'] == 'households_space_heater_heatpump_air_water_electricity']\n",
    "    value_airpump = ((row_airpump['final_demand_of_electricity (MJ)'])/1000000000).round(3).values[0]\n",
    "    row_hybrid = scenario[scenario['key'] == 'households_space_heater_hybrid_heatpump_air_water_electricity']\n",
    "    value_hybrid = ((row_hybrid['final_demand_of_electricity (MJ)'])/1000000000).round(3).values[0]\n",
    "\n",
    "    if scenario.equals(d_demand):                    \n",
    "        comparison.iloc[0,1] = value_airpump\n",
    "        comparison.iloc[1,1] = value_hybrid\n",
    "    else:\n",
    "        scenario_values = pd.DataFrame({f'Scenario {number} Final Demand of Electricity in billions (MJ)': [value_airpump, value_hybrid]})\n",
    "        comparison = pd.concat([comparison, scenario_values], axis = 1, ignore_index=False)\n",
    "        number += 1\n",
    "\n",
    "total_values = ['Total']\n",
    "\n",
    "for column in range(len(comparison.columns)-1):\n",
    "    total_values.append(comparison.iloc[:, column+1].sum())\n",
    "\n",
    "total_df = pd.DataFrame([total_values], columns=comparison.columns)\n",
    "comparison = pd.concat([comparison, total_df], axis = 0, ignore_index=False)\n",
    "\n",
    "comparison"
   ]
  }
 ],
 "metadata": {
  "kernelspec": {
   "display_name": "Python 3",
   "language": "python",
   "name": "python3"
  },
  "language_info": {
   "codemirror_mode": {
    "name": "ipython",
    "version": 3
   },
   "file_extension": ".py",
   "mimetype": "text/x-python",
   "name": "python",
   "nbconvert_exporter": "python",
   "pygments_lexer": "ipython3",
   "version": "3.12.7"
  }
 },
 "nbformat": 4,
 "nbformat_minor": 5
}
