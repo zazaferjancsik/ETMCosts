{
 "cells": [
  {
   "cell_type": "code",
   "execution_count": 2,
   "id": "7530e043",
   "metadata": {},
   "outputs": [],
   "source": [
    "import pandas as pd\n",
    "import numpy as np"
   ]
  },
  {
   "cell_type": "code",
   "execution_count": 53,
   "id": "60f81f30",
   "metadata": {},
   "outputs": [],
   "source": [
    "d_demand = pd.read_csv('application_demands_default.csv')\n",
    "c10_demand = pd.read_csv('application_demands_10pincrease.csv')\n",
    "c15_demand = pd.read_csv('application_demands_15pincrease.csv')\n",
    "c5_demand = pd.read_csv('application_demands_5pincrease.csv')\n",
    "\n",
    "scenarios = [d_demand, c5_demand, c10_demand, c15_demand]"
   ]
  },
  {
   "cell_type": "code",
   "execution_count": 54,
   "id": "17960f61",
   "metadata": {},
   "outputs": [
    {
     "name": "stderr",
     "output_type": "stream",
     "text": [
      "/var/folders/0k/1dtmj8756ps3ykn3lkd5fhqc0000gn/T/ipykernel_50196/3698378627.py:16: FutureWarning: Setting an item of incompatible dtype is deprecated and will raise an error in a future version of pandas. Value '39.169' has dtype incompatible with int64, please explicitly cast to a compatible dtype first.\n",
      "  comparison.iloc[0,1] = value_airpump\n"
     ]
    },
    {
     "data": {
      "application/vnd.microsoft.datawrangler.viewer.v0+json": {
       "columns": [
        {
         "name": "index",
         "rawType": "int64",
         "type": "integer"
        },
        {
         "name": "Appliance",
         "rawType": "object",
         "type": "string"
        },
        {
         "name": "Default Final Demand of Electricity in billions (MJ)",
         "rawType": "float64",
         "type": "float"
        },
        {
         "name": "Scenario 1 Final Demand of Electricity in billions (MJ)",
         "rawType": "float64",
         "type": "float"
        },
        {
         "name": "Scenario 2 Final Demand of Electricity in billions (MJ)",
         "rawType": "float64",
         "type": "float"
        },
        {
         "name": "Scenario 3 Final Demand of Electricity in billions (MJ)",
         "rawType": "float64",
         "type": "float"
        }
       ],
       "ref": "06f714bb-21ea-46b7-99a8-34f4c377cff3",
       "rows": [
        [
         "0",
         "Air Heatpump",
         "39.169",
         "33.325",
         "27.382",
         "21.504"
        ],
        [
         "1",
         "Hybrid Heatpump",
         "25.397",
         "31.505",
         "37.748",
         "43.573"
        ],
        [
         "0",
         "Total",
         "64.566",
         "64.83",
         "65.13",
         "65.077"
        ]
       ],
       "shape": {
        "columns": 5,
        "rows": 3
       }
      },
      "text/html": [
       "<div>\n",
       "<style scoped>\n",
       "    .dataframe tbody tr th:only-of-type {\n",
       "        vertical-align: middle;\n",
       "    }\n",
       "\n",
       "    .dataframe tbody tr th {\n",
       "        vertical-align: top;\n",
       "    }\n",
       "\n",
       "    .dataframe thead th {\n",
       "        text-align: right;\n",
       "    }\n",
       "</style>\n",
       "<table border=\"1\" class=\"dataframe\">\n",
       "  <thead>\n",
       "    <tr style=\"text-align: right;\">\n",
       "      <th></th>\n",
       "      <th>Appliance</th>\n",
       "      <th>Default Final Demand of Electricity in billions (MJ)</th>\n",
       "      <th>Scenario 1 Final Demand of Electricity in billions (MJ)</th>\n",
       "      <th>Scenario 2 Final Demand of Electricity in billions (MJ)</th>\n",
       "      <th>Scenario 3 Final Demand of Electricity in billions (MJ)</th>\n",
       "    </tr>\n",
       "  </thead>\n",
       "  <tbody>\n",
       "    <tr>\n",
       "      <th>0</th>\n",
       "      <td>Air Heatpump</td>\n",
       "      <td>39.169</td>\n",
       "      <td>33.325</td>\n",
       "      <td>27.382</td>\n",
       "      <td>21.504</td>\n",
       "    </tr>\n",
       "    <tr>\n",
       "      <th>1</th>\n",
       "      <td>Hybrid Heatpump</td>\n",
       "      <td>25.397</td>\n",
       "      <td>31.505</td>\n",
       "      <td>37.748</td>\n",
       "      <td>43.573</td>\n",
       "    </tr>\n",
       "    <tr>\n",
       "      <th>0</th>\n",
       "      <td>Total</td>\n",
       "      <td>64.566</td>\n",
       "      <td>64.830</td>\n",
       "      <td>65.130</td>\n",
       "      <td>65.077</td>\n",
       "    </tr>\n",
       "  </tbody>\n",
       "</table>\n",
       "</div>"
      ],
      "text/plain": [
       "         Appliance  Default Final Demand of Electricity in billions (MJ)  \\\n",
       "0     Air Heatpump                                             39.169      \n",
       "1  Hybrid Heatpump                                             25.397      \n",
       "0            Total                                             64.566      \n",
       "\n",
       "   Scenario 1 Final Demand of Electricity in billions (MJ)  \\\n",
       "0                                             33.325         \n",
       "1                                             31.505         \n",
       "0                                             64.830         \n",
       "\n",
       "   Scenario 2 Final Demand of Electricity in billions (MJ)  \\\n",
       "0                                             27.382         \n",
       "1                                             37.748         \n",
       "0                                             65.130         \n",
       "\n",
       "   Scenario 3 Final Demand of Electricity in billions (MJ)  \n",
       "0                                             21.504        \n",
       "1                                             43.573        \n",
       "0                                             65.077        "
      ]
     },
     "execution_count": 54,
     "metadata": {},
     "output_type": "execute_result"
    }
   ],
   "source": [
    "# print(d_demand[d_demand['key'] == 'households_space_heater_heatpump_air_water_electricity'])\n",
    "comparison = pd.DataFrame({\n",
    "    'Appliance' : ['Air Heatpump', 'Hybrid Heatpump'],\n",
    "    \"Default Final Demand of Electricity in billions (MJ)\" :[0,0]\n",
    "})\n",
    "\n",
    "number = 1\n",
    "\n",
    "for scenario in scenarios:\n",
    "    row_airpump = scenario[scenario['key'] == 'households_space_heater_heatpump_air_water_electricity']\n",
    "    value_airpump = ((row_airpump['final_demand_of_electricity (MJ)'])/1000000000).round(3).values[0]\n",
    "    row_hybrid = scenario[scenario['key'] == 'households_space_heater_hybrid_heatpump_air_water_electricity']\n",
    "    value_hybrid = ((row_hybrid['final_demand_of_electricity (MJ)'])/1000000000).round(3).values[0]\n",
    "\n",
    "    if scenario.equals(d_demand):                    \n",
    "        comparison.iloc[0,1] = value_airpump\n",
    "        comparison.iloc[1,1] = value_hybrid\n",
    "    else:\n",
    "        scenario_values = pd.DataFrame({f'Scenario {number} Final Demand of Electricity in billions (MJ)': [value_airpump, value_hybrid]})\n",
    "        comparison = pd.concat([comparison, scenario_values], axis = 1, ignore_index=False)\n",
    "        number += 1\n",
    "\n",
    "total_values = ['Total']\n",
    "\n",
    "for column in range(len(comparison.columns)-1):\n",
    "    total_values.append(comparison.iloc[:, column+1].sum())\n",
    "\n",
    "total_df = pd.DataFrame([total_values], columns=comparison.columns)\n",
    "comparison = pd.concat([comparison, total_df], axis = 0, ignore_index=False)\n",
    "\n",
    "comparison"
   ]
  },
  {
   "cell_type": "code",
   "execution_count": 22,
   "id": "eb6c06cc",
   "metadata": {},
   "outputs": [
    {
     "data": {
      "application/vnd.microsoft.datawrangler.viewer.v0+json": {
       "columns": [
        {
         "name": "index",
         "rawType": "int64",
         "type": "integer"
        },
        {
         "name": "Appliance",
         "rawType": "object",
         "type": "string"
        },
        {
         "name": "Primary Demand of Electricity in billions (MJ)",
         "rawType": "float64",
         "type": "float"
        }
       ],
       "ref": "f53ec467-ac83-47a7-908b-d24891989fc1",
       "rows": [
        [
         "0",
         "Air Heatpump",
         "37.7125681902696"
        ],
        [
         "1",
         "Air Heatpump",
         "24.453372585425797"
        ]
       ],
       "shape": {
        "columns": 2,
        "rows": 2
       }
      },
      "text/html": [
       "<div>\n",
       "<style scoped>\n",
       "    .dataframe tbody tr th:only-of-type {\n",
       "        vertical-align: middle;\n",
       "    }\n",
       "\n",
       "    .dataframe tbody tr th {\n",
       "        vertical-align: top;\n",
       "    }\n",
       "\n",
       "    .dataframe thead th {\n",
       "        text-align: right;\n",
       "    }\n",
       "</style>\n",
       "<table border=\"1\" class=\"dataframe\">\n",
       "  <thead>\n",
       "    <tr style=\"text-align: right;\">\n",
       "      <th></th>\n",
       "      <th>Appliance</th>\n",
       "      <th>Primary Demand of Electricity in billions (MJ)</th>\n",
       "    </tr>\n",
       "  </thead>\n",
       "  <tbody>\n",
       "    <tr>\n",
       "      <th>0</th>\n",
       "      <td>Air Heatpump</td>\n",
       "      <td>37.712568</td>\n",
       "    </tr>\n",
       "    <tr>\n",
       "      <th>1</th>\n",
       "      <td>Air Heatpump</td>\n",
       "      <td>24.453373</td>\n",
       "    </tr>\n",
       "  </tbody>\n",
       "</table>\n",
       "</div>"
      ],
      "text/plain": [
       "      Appliance  Primary Demand of Electricity in billions (MJ)\n",
       "0  Air Heatpump                                       37.712568\n",
       "1  Air Heatpump                                       24.453373"
      ]
     },
     "execution_count": 22,
     "metadata": {},
     "output_type": "execute_result"
    }
   ],
   "source": [
    "comparison = pd.DataFrame({\n",
    "    heater_values.columns[0] : heater_values.iloc[:, 0],\n",
    "    \"Primary Demand of Electricity in billions (MJ)\" : heater_values.iloc[:, 2]\n",
    "})\n",
    "\n",
    "comparison"
   ]
  }
 ],
 "metadata": {
  "kernelspec": {
   "display_name": "Python 3",
   "language": "python",
   "name": "python3"
  },
  "language_info": {
   "codemirror_mode": {
    "name": "ipython",
    "version": 3
   },
   "file_extension": ".py",
   "mimetype": "text/x-python",
   "name": "python",
   "nbconvert_exporter": "python",
   "pygments_lexer": "ipython3",
   "version": "3.12.7"
  }
 },
 "nbformat": 4,
 "nbformat_minor": 5
}
