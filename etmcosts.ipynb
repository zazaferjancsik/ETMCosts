{
 "cells": [
  {
   "cell_type": "code",
   "execution_count": 1,
   "id": "f793cf06",
   "metadata": {},
   "outputs": [],
   "source": [
    "import pandas as pd\n",
    "import numpy as np\n",
    "import plotly.express as px \n",
    "import plotly.graph_objects as go\n"
   ]
  },
  {
   "cell_type": "code",
   "execution_count": null,
   "id": "b56778dc",
   "metadata": {},
   "outputs": [],
   "source": [
    "d_costdata = pd.read_csv('costs_parameters_nbnlscenariokm.csv')\n",
    "c_costdata = pd.read_csv('costs_parameters_10pincrease.csv')\n",
    "\n",
    "scenarios = [d_costdata, c_costdata]"
   ]
  },
  {
   "cell_type": "code",
   "execution_count": null,
   "id": "6e3af7cf",
   "metadata": {},
   "outputs": [
    {
     "data": {
      "application/vnd.microsoft.datawrangler.viewer.v0+json": {
       "columns": [
        {
         "name": "index",
         "rawType": "int64",
         "type": "integer"
        },
        {
         "name": "Group",
         "rawType": "object",
         "type": "string"
        },
        {
         "name": "Default Cost In Billion Euros",
         "rawType": "float64",
         "type": "float"
        },
        {
         "name": "Current Cost In Billion Euros",
         "rawType": "float64",
         "type": "float"
        },
        {
         "name": "Change (billion euros)",
         "rawType": "float64",
         "type": "float"
        },
        {
         "name": "Change (%)",
         "rawType": "float64",
         "type": "float"
        }
       ],
       "ref": "6863d83d-e611-4f48-801d-df9a0ff64cdd",
       "rows": [
        [
         "0",
         "Building and Installations",
         "13.256",
         "13.121",
         "-0.135",
         "-1.02"
        ],
        [
         "1",
         "Energy Production",
         "13.539",
         "13.595",
         "0.056",
         "0.41"
        ],
        [
         "2",
         "Storage and Conversion",
         "18.448",
         "18.446",
         "-0.002",
         "-0.01"
        ],
        [
         "3",
         "Carriers",
         "31.015",
         "31.053",
         "0.038",
         "0.12"
        ],
        [
         "4",
         "Infrastructure",
         "20.739",
         "21.167",
         "0.428",
         "2.06"
        ],
        [
         "5",
         "CCUS",
         "0.949",
         "0.949",
         "0.0",
         "0.0"
        ],
        [
         "6",
         "CO2 Emsissions",
         "0.173",
         "0.173",
         "0.0",
         "0.0"
        ],
        [
         "7",
         "Captured Biogenic CO2",
         "-1.963",
         "-1.963",
         "0.0",
         "-0.0"
        ],
        [
         "8",
         "Total",
         "96.157",
         "96.543",
         "0.386",
         "0.4"
        ]
       ],
       "shape": {
        "columns": 5,
        "rows": 9
       }
      },
      "text/html": [
       "<div>\n",
       "<style scoped>\n",
       "    .dataframe tbody tr th:only-of-type {\n",
       "        vertical-align: middle;\n",
       "    }\n",
       "\n",
       "    .dataframe tbody tr th {\n",
       "        vertical-align: top;\n",
       "    }\n",
       "\n",
       "    .dataframe thead th {\n",
       "        text-align: right;\n",
       "    }\n",
       "</style>\n",
       "<table border=\"1\" class=\"dataframe\">\n",
       "  <thead>\n",
       "    <tr style=\"text-align: right;\">\n",
       "      <th></th>\n",
       "      <th>Group</th>\n",
       "      <th>Default Cost In Billion Euros</th>\n",
       "      <th>Current Cost In Billion Euros</th>\n",
       "      <th>Change (billion euros)</th>\n",
       "      <th>Change (%)</th>\n",
       "    </tr>\n",
       "  </thead>\n",
       "  <tbody>\n",
       "    <tr>\n",
       "      <th>0</th>\n",
       "      <td>Building and Installations</td>\n",
       "      <td>13.256</td>\n",
       "      <td>13.121</td>\n",
       "      <td>-0.135</td>\n",
       "      <td>-1.02</td>\n",
       "    </tr>\n",
       "    <tr>\n",
       "      <th>1</th>\n",
       "      <td>Energy Production</td>\n",
       "      <td>13.539</td>\n",
       "      <td>13.595</td>\n",
       "      <td>0.056</td>\n",
       "      <td>0.41</td>\n",
       "    </tr>\n",
       "    <tr>\n",
       "      <th>2</th>\n",
       "      <td>Storage and Conversion</td>\n",
       "      <td>18.448</td>\n",
       "      <td>18.446</td>\n",
       "      <td>-0.002</td>\n",
       "      <td>-0.01</td>\n",
       "    </tr>\n",
       "    <tr>\n",
       "      <th>3</th>\n",
       "      <td>Carriers</td>\n",
       "      <td>31.015</td>\n",
       "      <td>31.053</td>\n",
       "      <td>0.038</td>\n",
       "      <td>0.12</td>\n",
       "    </tr>\n",
       "    <tr>\n",
       "      <th>4</th>\n",
       "      <td>Infrastructure</td>\n",
       "      <td>20.739</td>\n",
       "      <td>21.167</td>\n",
       "      <td>0.428</td>\n",
       "      <td>2.06</td>\n",
       "    </tr>\n",
       "    <tr>\n",
       "      <th>5</th>\n",
       "      <td>CCUS</td>\n",
       "      <td>0.949</td>\n",
       "      <td>0.949</td>\n",
       "      <td>0.000</td>\n",
       "      <td>0.00</td>\n",
       "    </tr>\n",
       "    <tr>\n",
       "      <th>6</th>\n",
       "      <td>CO2 Emsissions</td>\n",
       "      <td>0.173</td>\n",
       "      <td>0.173</td>\n",
       "      <td>0.000</td>\n",
       "      <td>0.00</td>\n",
       "    </tr>\n",
       "    <tr>\n",
       "      <th>7</th>\n",
       "      <td>Captured Biogenic CO2</td>\n",
       "      <td>-1.963</td>\n",
       "      <td>-1.963</td>\n",
       "      <td>0.000</td>\n",
       "      <td>-0.00</td>\n",
       "    </tr>\n",
       "    <tr>\n",
       "      <th>8</th>\n",
       "      <td>Total</td>\n",
       "      <td>96.157</td>\n",
       "      <td>96.543</td>\n",
       "      <td>0.386</td>\n",
       "      <td>0.40</td>\n",
       "    </tr>\n",
       "  </tbody>\n",
       "</table>\n",
       "</div>"
      ],
      "text/plain": [
       "                        Group  Default Cost In Billion Euros  \\\n",
       "0  Building and Installations                         13.256   \n",
       "1           Energy Production                         13.539   \n",
       "2      Storage and Conversion                         18.448   \n",
       "3                    Carriers                         31.015   \n",
       "4              Infrastructure                         20.739   \n",
       "5                        CCUS                          0.949   \n",
       "6              CO2 Emsissions                          0.173   \n",
       "7       Captured Biogenic CO2                         -1.963   \n",
       "8                       Total                         96.157   \n",
       "\n",
       "   Current Cost In Billion Euros  Change (billion euros)  Change (%)  \n",
       "0                         13.121                  -0.135       -1.02  \n",
       "1                         13.595                   0.056        0.41  \n",
       "2                         18.446                  -0.002       -0.01  \n",
       "3                         31.053                   0.038        0.12  \n",
       "4                         21.167                   0.428        2.06  \n",
       "5                          0.949                   0.000        0.00  \n",
       "6                          0.173                   0.000        0.00  \n",
       "7                         -1.963                   0.000       -0.00  \n",
       "8                         96.543                   0.386        0.40  "
      ]
     },
     "execution_count": 179,
     "metadata": {},
     "output_type": "execute_result"
    }
   ],
   "source": [
    "#Overview of the Costs for each Group\n",
    "costs_groupdata = {'Group': [\"Building and Installations\", \"Energy Production\", \"Storage and Conversion\", \"Carriers\", \"Infrastructure\", \"CCUS\", \"CO2 Emsissions\", \"Captured Biogenic CO2\"],\n",
    "                   'Default Cost In Billion Euros': [d_costdata[d_costdata['Group']==\"costs_building_and_installations\"]['Total costs (eur)'].sum(),\n",
    "                                             d_costdata[d_costdata['Group']==\"costs_production\"]['Total costs (eur)'].sum(),\n",
    "                                             d_costdata[d_costdata['Group']==\"costs_storage_and_conversion\"]['Total costs (eur)'].sum(),\n",
    "                                             d_costdata[d_costdata['Group']==\"costs_carriers\"]['Total costs (eur)'].sum(),\n",
    "                                             d_costdata[d_costdata['Group']==\"costs_infrastructure\"]['Total costs (eur)'].sum(),\n",
    "                                             d_costdata[d_costdata['Group']==\"costs_co2\"]['Total costs (eur)'].sum(),\n",
    "                                             d_costdata['CO2 emission costs (eur)'].sum(),\n",
    "                                             d_costdata['Captured biogenic CO2 costs (eur)'].sum()\n",
    "                                            ],\n",
    "                   'Current Cost In Billion Euros': [c_costdata[c_costdata['Group']==\"costs_building_and_installations\"]['Total costs (eur)'].sum(),\n",
    "                                             c_costdata[c_costdata['Group']==\"costs_production\"]['Total costs (eur)'].sum(),\n",
    "                                             c_costdata[c_costdata['Group']==\"costs_storage_and_conversion\"]['Total costs (eur)'].sum(),\n",
    "                                             c_costdata[c_costdata['Group']==\"costs_carriers\"]['Total costs (eur)'].sum(),\n",
    "                                             c_costdata[c_costdata['Group']==\"costs_infrastructure\"]['Total costs (eur)'].sum(),\n",
    "                                             c_costdata[c_costdata['Group']==\"costs_co2\"]['Total costs (eur)'].sum(),\n",
    "                                             c_costdata['CO2 emission costs (eur)'].sum(),\n",
    "                                             c_costdata['Captured biogenic CO2 costs (eur)'].sum()\n",
    "                                            ]\n",
    "                   }\n",
    "costs_group = pd.DataFrame(costs_groupdata)\n",
    "\n",
    "total_df = pd.DataFrame(\n",
    "    {'Group': ['Total'], \n",
    "     'Default Cost In Billion Euros': [(costs_group['Default Cost In Billion Euros'].sum()/1000000000).round(3)], \n",
    "     'Current Cost In Billion Euros': [(costs_group['Current Cost In Billion Euros'].sum()/1000000000).round(3)]\n",
    "                         }\n",
    "                         )\n",
    "costs_group['Default Cost In Billion Euros'] = (costs_group['Default Cost In Billion Euros']/1000000000).round(3)\n",
    "costs_group['Current Cost In Billion Euros'] = (costs_group['Current Cost In Billion Euros']/1000000000).round(3)\n",
    "costs_group = pd.concat([costs_group, total_df], ignore_index=True)\n",
    "costs_group['Change (billion euros)'] = (costs_group['Current Cost In Billion Euros'] - costs_group['Default Cost In Billion Euros']).round(3)\n",
    "costs_group['Change (%)'] = ((costs_group['Change (billion euros)']/costs_group['Default Cost In Billion Euros'])*100).round(2)\n",
    "\n",
    "costs_group"
   ]
  },
  {
   "cell_type": "code",
   "execution_count": null,
   "id": "9790d0ff",
   "metadata": {},
   "outputs": [],
   "source": [
    "#Buildings and Installations Cost Breakdown into Subgroups\n",
    "cbi_subgroups = d_costdata[d_costdata['Group'] == \"costs_building_and_installations\"]\n",
    "cbi_subgroups = cbi_subgroups.groupby(\"Subgroup\")['Total costs (eur)'].sum()\n",
    "\n",
    "cbi_total = (cbi_subgroups.sum()/1000000000).round(3)\n",
    "total_df = pd.DataFrame({'Subgroup': ['Total'], 'Cost In Billion Euros': [cbi_total]})\n",
    "\n",
    "cbi_subgroupsdata = {'Subgroup': cbi_subgroups.index.tolist(),\n",
    "                     'Cost In Billion Euros': cbi_subgroups.values.tolist()\n",
    "                    }\n",
    "cbi_subgroups = pd.DataFrame(cbi_subgroupsdata)\n",
    "\n",
    "cbi_subgroups['Cost In Billion Euros'] = (cbi_subgroups['Cost In Billion Euros']/1000000000).round(3)\n",
    "cbi_subgroups = pd.concat([cbi_subgroups, total_df], ignore_index=True)\n",
    "cbi_subgroups\n"
   ]
  },
  {
   "cell_type": "code",
   "execution_count": 189,
   "id": "78acce9e",
   "metadata": {},
   "outputs": [
    {
     "name": "stdout",
     "output_type": "stream",
     "text": [
      "            Subgroup  Default Cost In Billion Euros\n",
      "0        Natural Gas                   1.493751e+09\n",
      "1  Hydrogen Carriers                  -1.804338e+09\n",
      "2        Electricity                   1.571198e+10\n",
      "3               Heat                   1.506166e+09\n",
      "4            Ammonia                   1.298214e+10\n",
      "5   Oil and Products                   0.000000e+00\n"
     ]
    }
   ],
   "source": [
    "for scenario in scenarios:\n",
    "    inf_costs = d_costdata[d_costdata['Group']==\"costs_infrastructure\"]\n",
    "\n",
    "    hydrogen_carriers = scenario[scenario['Subgroup']==\"hydrogen\"]['Total costs (eur)'].sum() + scenario[scenario['Subgroup']==\"liquid_hydrogen\"]['Total costs (eur)'].sum() + scenario[scenario['Subgroup']==\"lohc\"]['Total costs (eur)'].sum()\n",
    "    natural_gas =       scenario[scenario['Subgroup']==\"lng\"]['Total costs (eur)'].sum() + scenario[scenario['Subgroup']==\"network_gas\"]['Total costs (eur)'].sum()\n",
    "    electricity =       scenario[scenario['Subgroup']==\"electricity\"]['Total costs (eur)'].sum()\n",
    "    ammonia =           scenario[scenario['Subgroup']==\"ammonia\"]['Total costs (eur)'].sum()\n",
    "    oil_p =             scenario[scenario['Subgroup']==\"diesel\"]['Total costs (eur)'].sum()\n",
    "    heat =              scenario[scenario['Subgroup']==\"heat\"]['Total costs (eur)'].sum()\n",
    "\n",
    "    if scenario.equals(d_costdata):\n",
    "        inf_subgroupsdata = {'Subgroup': [\"Natural Gas\", \"Hydrogen Carriers\", \"Electricity\", \"Heat\", \"Ammonia\", \"Oil and Products\"],\n",
    "                        'Default Cost In Billion Euros': [natural_gas, hydrogen_carriers, electricity, heat, ammonia, oil_p]\n",
    "                        }\n",
    "        inf_subgroups = pd.DataFrame(inf_subgroupsdata)\n",
    "    else:\n",
    "        inf_subgroupsdata = {'Subgroup': [\"Natural Gas\", \"Hydrogen Carriers\", \"Electricity\", \"Heat\", \"Ammonia\", \"Oil and Products\"],\n",
    "                        'Current Cost In Billion Euros': [natural_gas, hydrogen_carriers, electricity, heat, ammonia, oil_p]\n",
    "                        }\n",
    "        inf_subgroups_current = pd.DataFrame(inf_subgroupsdata)\n",
    "        inf_subgroups = pd.concat([inf_subgroups, inf_subgroups_current], axis=1)\n",
    "\n",
    "print(inf_subgroups)\n",
    "\n",
    "# inf_subgroups = pd.DataFrame(inf_subgroupsdata)\n",
    "# inf_total = (inf_subgroups['Cost In Billion Euros'].sum()/1000000000).round(3)\n",
    "# total_df['Cost In Billion Euros'] = inf_total\n",
    "# inf_subgroups['Cost In Billion Euros'] = (inf_subgroups['Cost In Billion Euros']/1000000000).round(3)\n",
    "# inf_subgroups = pd.concat([inf_subgroups, total_df], ignore_index=True)\n",
    "\n",
    "# inf_subgroups"
   ]
  },
  {
   "cell_type": "markdown",
   "id": "949843b0",
   "metadata": {},
   "source": [
    "Subcategories hydrogen, liquid_hydrogen, and lohc are combined into one in gquerry under hydrogen_carriers\n",
    "Subcategories lng and network gas are combined into one category in gquerry under natural_gas\n",
    "Heat is made up of HT, MT and LT heat\n",
    "Ammonia is made up of capital and operating expenses\n",
    "Subcategory diesel appears as oil_and_products in gquery and is breaken down into capital and operating expenses\n"
   ]
  }
 ],
 "metadata": {
  "kernelspec": {
   "display_name": "Python 3",
   "language": "python",
   "name": "python3"
  },
  "language_info": {
   "codemirror_mode": {
    "name": "ipython",
    "version": 3
   },
   "file_extension": ".py",
   "mimetype": "text/x-python",
   "name": "python",
   "nbconvert_exporter": "python",
   "pygments_lexer": "ipython3",
   "version": "3.12.7"
  }
 },
 "nbformat": 4,
 "nbformat_minor": 5
}
